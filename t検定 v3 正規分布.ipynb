{
 "cells": [
  {
   "cell_type": "code",
   "execution_count": 1,
   "metadata": {},
   "outputs": [],
   "source": [
    "# %%\n",
    "# システムパラメータの設定\n",
    "import copy\n",
    "import numpy\n",
    "import pandas\n",
    "import scipy\n",
    "import seaborn\n",
    "from IPython import get_ipython\n",
    "\n",
    "# 事前処理\n",
    "seaborn.set()\n",
    "\n",
    "# 表示桁数の設定\n",
    "%precision 3\n",
    "%matplotlib inline\n"
   ]
  },
  {
   "cell_type": "code",
   "execution_count": 2,
   "metadata": {},
   "outputs": [],
   "source": [
    "## 設定\n",
    "# 症例数\n",
    "numA = 50\n",
    "numB = 50\n",
    "\n",
    "valStdevA = 2\n",
    "valStdevB = 2\n",
    "\n",
    "# 差\n",
    "valAverageA = 0\n",
    "valAverageB = 1"
   ]
  },
  {
   "cell_type": "code",
   "execution_count": 3,
   "metadata": {},
   "outputs": [],
   "source": [
    "## 関数：　データ生成\n",
    "\n",
    "def databaseMake(numA,numB,valStdevA,valStdevB,valAverageA,valAverageB):\n",
    "    # 一様分布の乱数\n",
    "\n",
    "    listA = numpy.random.normal(valAverageA,valStdevA,numA)\n",
    "    listB = numpy.random.normal(valAverageB,valStdevB,numB)\n",
    "\n",
    "    # DataFrame に格納\n",
    "    ID_A = list('A') * numA\n",
    "    ID_B = list('B') * numB\n",
    "\n",
    "    dfA = pandas.DataFrame({\n",
    "        'ID':ID_A,\n",
    "        'data':listA    \n",
    "    })\n",
    "\n",
    "    dfB = pandas.DataFrame({\n",
    "        'ID':ID_B,\n",
    "        'data':listB\n",
    "    })\n",
    "\n",
    "    dfX = pandas.concat([dfA,dfB])\n",
    "    \n",
    "    return listA,listB,dfX\n"
   ]
  },
  {
   "cell_type": "code",
   "execution_count": 4,
   "metadata": {},
   "outputs": [
    {
     "data": {
      "text/plain": [
       "0.00094"
      ]
     },
     "execution_count": 4,
     "metadata": {},
     "output_type": "execute_result"
    }
   ],
   "source": [
    "# データ生成と統計のテスト\n",
    "\n",
    "listA,listB,dfX = databaseMake(numA,numB,valStdevA,valStdevB,valAverageA,valAverageB)\n",
    "\n",
    "tValue ,pValue = scipy.stats.ttest_ind(listA,listB,equal_var=False)\n",
    "round(pValue,5)"
   ]
  },
  {
   "cell_type": "code",
   "execution_count": 5,
   "metadata": {},
   "outputs": [
    {
     "data": {
      "text/plain": [
       "<matplotlib.axes._subplots.AxesSubplot at 0x1f593a574e0>"
      ]
     },
     "execution_count": 5,
     "metadata": {},
     "output_type": "execute_result"
    },
    {
     "data": {
      "image/png": "[encoded data removed]",
      "text/plain": [
       "<Figure size 432x288 with 1 Axes>"
      ]
     },
     "metadata": {
      "needs_background": "light"
     },
     "output_type": "display_data"
    }
   ],
   "source": [
    "# 散布図テスト表示\n",
    "seaborn.stripplot(x='ID',y='data',data=dfX)"
   ]
  },
  {
   "cell_type": "code",
   "execution_count": 6,
   "metadata": {},
   "outputs": [
    {
     "data": {
      "text/plain": [
       "<matplotlib.axes._subplots.AxesSubplot at 0x1f593d9dda0>"
      ]
     },
     "execution_count": 6,
     "metadata": {},
     "output_type": "execute_result"
    },
    {
     "data": {
      "image/png": "[encoded data removed]",
      "text/plain": [
       "<Figure size 432x288 with 1 Axes>"
      ]
     },
     "metadata": {
      "needs_background": "light"
     },
     "output_type": "display_data"
    }
   ],
   "source": [
    "#繰り返し実験\n",
    "\n",
    "repeat = 100\n",
    "\n",
    "pValueList =list([])\n",
    "for i in range(0,repeat):\n",
    "    listA,listB,dfX = databaseMake(numA,numB,valStdevA,valStdevB,valAverageA,valAverageB)\n",
    "    tValue ,pValue = scipy.stats.ttest_ind(listA,listB,equal_var=False)\n",
    "    pValueList.extend([round(pValue,5)])\n",
    "\n",
    "#pValueDf = pandas.DataFrame({\n",
    "#    'pValue': pValueList\n",
    "#})\n",
    "\n",
    "seaborn.distplot(pValueList)\n"
   ]
  },
  {
   "cell_type": "code",
   "execution_count": 7,
   "metadata": {},
   "outputs": [
    {
     "name": "stdout",
     "output_type": "stream",
     "text": [
      "症例数は研究Aが50、研究Bが50\n",
      "平均は研究Aが0、研究Bが1\n",
      "標準偏差は研究Aが2、研究Bが2\n",
      "その設定で研究を100回繰り返したところ\n",
      "p>=0.05 の差を認めたのは66研究(66.0%)\n"
     ]
    }
   ],
   "source": [
    "# 0.05以下\n",
    "numOfOver005 = len([i for i in pValueList if i <= 0.05])\n",
    "\n",
    "print('症例数は研究Aが{}、研究Bが{}'.format(numA,numB))\n",
    "print('平均は研究Aが{}、研究Bが{}'.format(valAverageA,valAverageB))\n",
    "print('標準偏差は研究Aが{}、研究Bが{}'.format(valStdevA,valStdevB))\n",
    "\n",
    "print('その設定で研究を{}回繰り返したところ'.format(repeat))\n",
    "print('p>=0.05 の差を認めたのは{}研究({}%)'.format(numOfOver005,(numOfOver005*100/repeat)))"
   ]
  },
  {
   "cell_type": "code",
   "execution_count": null,
   "metadata": {},
   "outputs": [],
   "source": []
  }
 ],
 "metadata": {
  "kernelspec": {
   "display_name": "Python 3",
   "language": "python",
   "name": "python3"
  },
  "language_info": {
   "codemirror_mode": {
    "name": "ipython",
    "version": 3
   },
   "file_extension": ".py",
   "mimetype": "text/x-python",
   "name": "python",
   "nbconvert_exporter": "python",
   "pygments_lexer": "ipython3",
   "version": "3.7.3"
  }
 },
 "nbformat": 4,
 "nbformat_minor": 2
}
